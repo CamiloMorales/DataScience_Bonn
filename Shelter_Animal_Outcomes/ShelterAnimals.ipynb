{
 "cells": [
  {
   "cell_type": "code",
   "execution_count": null,
   "metadata": {
    "collapsed": true
   },
   "outputs": [],
   "source": [
    "import tensorflow as tf\n",
    "import pandas as pd\n",
    "import numpy as np\n",
    "from pandas import DataFrame, read_csv"
   ]
  },
  {
   "cell_type": "code",
   "execution_count": null,
   "metadata": {
    "collapsed": false
   },
   "outputs": [],
   "source": [
    "train = pd.read_csv('./train.csv')\n",
    "keys = [\"OutcomeType\", \"OutcomeSubtype\", \"AnimalType\", \"SexuponOutcome\", \"AgeuponOutcome\", \"Breed\", \"Color\"]\n",
    "train"
   ]
  },
  {
   "cell_type": "code",
   "execution_count": null,
   "metadata": {
    "collapsed": false
   },
   "outputs": [],
   "source": [
    "print \"OutcomeType\"\n",
    "\n",
    "dict_temp = {}\n",
    "\n",
    "dict_temp[\"OutcomeType\"] = np.array([val for val in train.OutcomeType.unique() if str(val) != 'nan'and str(val).lower() != 'unknown'])\n",
    "dict_temp[\"OutcomeType\"]"
   ]
  },
  {
   "cell_type": "code",
   "execution_count": null,
   "metadata": {
    "collapsed": false
   },
   "outputs": [],
   "source": [
    "print \"OutcomeSubtype\"\n",
    "\n",
    "dict_temp[\"OutcomeSubtype\"] = np.array([val for val in train.OutcomeSubtype.unique() if str(val) != 'nan'and str(val).lower() != 'unknown'])\n",
    "\n",
    "dict_temp[\"OutcomeSubtype\"] "
   ]
  },
  {
   "cell_type": "code",
   "execution_count": null,
   "metadata": {
    "collapsed": false
   },
   "outputs": [],
   "source": [
    "print \"Breed\"\n",
    "dict_temp[\"Breed\"] = np.array([val for val in train.Breed.unique() if str(val) != 'nan'and str(val).lower() != 'unknown'])\n",
    "dict_temp[\"Breed\"]"
   ]
  },
  {
   "cell_type": "code",
   "execution_count": null,
   "metadata": {
    "collapsed": false
   },
   "outputs": [],
   "source": [
    "print \"AnimalType\"\n",
    "dict_temp[\"AnimalType\"] = np.array([val for val in train.AnimalType.unique() if str(val) != 'nan'and str(val).lower() != 'unknown'])\n",
    "dict_temp[\"AnimalType\"]"
   ]
  },
  {
   "cell_type": "code",
   "execution_count": null,
   "metadata": {
    "collapsed": false
   },
   "outputs": [],
   "source": [
    "print \"SexuponOutcome\"\n",
    "dict_temp[\"SexuponOutcome\"] = np.array([val for val in train.SexuponOutcome.unique() if str(val) != 'nan' and str(val).lower() != 'unknown'])\n",
    "dict_temp[\"SexuponOutcome\"]"
   ]
  },
  {
   "cell_type": "code",
   "execution_count": null,
   "metadata": {
    "collapsed": false
   },
   "outputs": [],
   "source": [
    "print \"AgeuponOutcome\"\n",
    "dict_temp[\"AgeuponOutcome\"] = train.AgeuponOutcome.unique()\n",
    "dict_temp[\"AgeuponOutcome\"] "
   ]
  },
  {
   "cell_type": "code",
   "execution_count": null,
   "metadata": {
    "collapsed": false
   },
   "outputs": [],
   "source": [
    "print \"Color\"\n",
    "dict_temp[\"Color\"] = np.array([val for val in train.Color.unique() if str(val) != 'nan' and str(val).lower() != 'unknown'])\n",
    "dict_temp[\"Color\"]\n",
    "\n",
    "dict_colors = {}\n",
    "\n",
    "i = 1\n",
    "\n",
    "for value in dict_temp[\"Color\"]:\n",
    "    if value not in dict_colors and '/' not in value:\n",
    "        dict_colors[value] = i\n",
    "        i+=1\n",
    "    elif value not in dict_colors and  '/' in value:\n",
    "        temp_val = value.split('/')\n",
    "        temp = '{0}/{1}'.format(temp_val[1], temp_val[0]) \n",
    "        if temp not in dict_colors:\n",
    "            dict_colors[value] = i\n",
    "            i += 1\n",
    "            \n",
    "def getColorCode(colorValue):\n",
    "    if colorValue in dict_colors:\n",
    "        return dict_colors[colorValue]\n",
    "    splits = colorValue.split('/')\n",
    "    val = '{1}/{0}'.format(splits[0], splits[1])\n",
    "    return dict_colors[val]"
   ]
  },
  {
   "cell_type": "code",
   "execution_count": null,
   "metadata": {
    "collapsed": false
   },
   "outputs": [],
   "source": [
    "import math\n",
    "\n",
    "keys"
   ]
  },
  {
   "cell_type": "code",
   "execution_count": null,
   "metadata": {
    "collapsed": true
   },
   "outputs": [],
   "source": [
    "def convertAgeToNum(age):\n",
    "    if str(age).isdigit():\n",
    "        return age\n",
    "    elif str(age) == 'nan':\n",
    "        return 0\n",
    "    else:\n",
    "        age = age.strip()\n",
    "        age = age.lower()\n",
    "        splits = age.split()\n",
    "        if \"year\" in splits[1]:\n",
    "            return float(splits[0]) * 365\n",
    "        elif \"month\" in splits[1]:\n",
    "            return float(splits[0]) * 30\n",
    "        elif \"week\" in splits[1]:\n",
    "            return float(splits[0]) * 7\n",
    "        elif \"day\" in splits[1]:\n",
    "            return float(splits[0])"
   ]
  },
  {
   "cell_type": "code",
   "execution_count": null,
   "metadata": {
    "collapsed": false
   },
   "outputs": [],
   "source": [
    "train_transformed = []\n",
    "for idx, row in train.iterrows():\n",
    "    lis = []\n",
    "    for key in keys:\n",
    "        if key == \"AgeuponOutcome\":\n",
    "            age_in_days = convertAgeToNum(row[key])\n",
    "            lis.append(age_in_days)\n",
    "        elif key == 'Color':\n",
    "            if str(row[key]) != \"nan\" and str(row[key]).lower() != \"unknown\":\n",
    "                lis.append(getColorCode(row[key]))\n",
    "            else:\n",
    "                lis.append(0)\n",
    "        elif str(row[key]) != \"nan\" and str(row[key]).lower() != \"unknown\":            \n",
    "            temp = np.where(dict_temp[key] == row[key])[0][0]+1\n",
    "            lis.append(temp)\n",
    "        else:\n",
    "            lis.append(0)\n",
    "    train_transformed.append(np.array(lis))\n"
   ]
  },
  {
   "cell_type": "code",
   "execution_count": null,
   "metadata": {
    "collapsed": false
   },
   "outputs": [],
   "source": [
    "train_transformed = np.array(train_transformed)\n",
    "train_transformed"
   ]
  }
 ],
 "metadata": {
  "kernelspec": {
   "display_name": "Python 2",
   "language": "python",
   "name": "python2"
  },
  "language_info": {
   "codemirror_mode": {
    "name": "ipython",
    "version": 2
   },
   "file_extension": ".py",
   "mimetype": "text/x-python",
   "name": "python",
   "nbconvert_exporter": "python",
   "pygments_lexer": "ipython2",
   "version": "2.7.11+"
  }
 },
 "nbformat": 4,
 "nbformat_minor": 0
}
