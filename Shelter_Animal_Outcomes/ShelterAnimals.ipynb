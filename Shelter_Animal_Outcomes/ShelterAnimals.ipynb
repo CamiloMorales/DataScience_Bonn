{
 "cells": [
  {
   "cell_type": "code",
   "execution_count": null,
   "metadata": {
    "collapsed": false
   },
   "outputs": [],
   "source": [
    "import tensorflow as tf\n",
    "import pandas as pd\n",
    "import numpy as np\n",
    "from pandas import DataFrame, read_csv\n",
    "import json\n",
    "\n",
    "import sys\n",
    "sys.path.insert(0, '../ToolBox')\n",
    "\n",
    "import CrossValidation, MLP, Helper, ZScore\n",
    "\n",
    "import os, sys\n",
    "import cPickle"
   ]
  },
  {
   "cell_type": "code",
   "execution_count": null,
   "metadata": {
    "collapsed": false
   },
   "outputs": [],
   "source": [
    "saved_train_data = open('pre_processed_data/train_preprocessed.pkl', 'rb')\n",
    "train_data_loaded = cPickle.load(saved_train_data)"
   ]
  },
  {
   "cell_type": "code",
   "execution_count": null,
   "metadata": {
    "collapsed": false
   },
   "outputs": [],
   "source": [
    "saved_test_data = open('pre_processed_data/test_preprocessed.pkl', 'rb')\n",
    "test_data_loaded = cPickle.load(saved_test_data)"
   ]
  },
  {
   "cell_type": "code",
   "execution_count": null,
   "metadata": {
    "collapsed": false
   },
   "outputs": [],
   "source": [
    "import yaml\n",
    "\n",
    "with open(\"../ToolBox/params.json\") as data_file:\n",
    "    params = yaml.safe_load(data_file)\n",
    "\n",
    "dict_zscore = ZScore.init()\n",
    "\n",
    "print \"Starting normalization of train data.\"\n",
    "train_mean, train_stddev = dict_zscore[\"z_score_compute\"](train_data_loaded)\n",
    "print \"Mean and stddev calculated.\"\n",
    "normalized_train_data = dict_zscore[\"z_score_normalize\"](train_data_loaded, train_mean, train_stddev)\n",
    "print \"Normalized.\"\n",
    "\n",
    "print np.array(normalized_train_data).shape\n",
    "\n",
    "data_dict={\"y\": Helper.convert_one_hot_encoding(np.subtract(np.array(labels), 1), params['MLP'][\"output-dim\"]), \"x\":np.array(normalized_train_data)}\n",
    "\n",
    "print data_dict[\"y\"].shape\n",
    "print params['MLP'][\"output-dim\"]\n",
    "\n",
    "print \"Starting training.\"\n",
    "dict_mlp = MLP.init(params['MLP'])\n",
    "print \"Training.\"\n",
    "dict_mlp['train'](data_dict)\n",
    "print \"Training finished.\"\n",
    "\n",
    "print \"Starting normalization of test data.\"\n",
    "normalized_test_data = dict_zscore[\"z_score_normalize\"](test_data_loaded, train_mean, train_stddev)\n",
    "print \"Predicting with test data.\"\n",
    "print normalized_test_data.shape\n",
    "result_dict = dict_mlp['predict'](normalized_test_data)\n",
    "print \"Prediction:\"\n",
    "result_dict"
   ]
  },
  {
   "cell_type": "code",
   "execution_count": null,
   "metadata": {
    "collapsed": false
   },
   "outputs": [],
   "source": [
    "lis = []\n",
    "lis.append(\"ID,Adoption,Died,Euthanasia,Return_to_owner,Transfer\")\n",
    "\n",
    "for idx, z in enumerate(result_dict[\"network_0\"]):\n",
    "    zList = z[0].tolist()\n",
    "    temp_str = str(idx+1)\n",
    "    for idy, x in enumerate(zList):\n",
    "        temp_str = temp_str+\", \"+str(x)\n",
    "    lis.append(temp_str)\n",
    "\n",
    "\n",
    "lis = np.array(lis)\n",
    "np.savetxt('result_shelter_animal_outcomes.csv', lis, fmt='%s', delimiter=',')"
   ]
  },
  {
   "cell_type": "code",
   "execution_count": null,
   "metadata": {
    "collapsed": true
   },
   "outputs": [],
   "source": []
  }
 ],
 "metadata": {
  "kernelspec": {
   "display_name": "Python 2",
   "language": "python",
   "name": "python2"
  },
  "language_info": {
   "codemirror_mode": {
    "name": "ipython",
    "version": 2
   },
   "file_extension": ".py",
   "mimetype": "text/x-python",
   "name": "python",
   "nbconvert_exporter": "python",
   "pygments_lexer": "ipython2",
   "version": "2.7.11+"
  }
 },
 "nbformat": 4,
 "nbformat_minor": 0
}
