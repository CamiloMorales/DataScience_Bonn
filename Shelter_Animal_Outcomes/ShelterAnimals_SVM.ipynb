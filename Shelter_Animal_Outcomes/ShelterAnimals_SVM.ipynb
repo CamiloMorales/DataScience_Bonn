{
 "cells": [
  {
   "cell_type": "code",
   "execution_count": null,
   "metadata": {
    "collapsed": false
   },
   "outputs": [],
   "source": [
    "import tensorflow as tf\n",
    "import pandas as pd\n",
    "import numpy as np\n",
    "from pandas import DataFrame, read_csv\n",
    "import json\n",
    "\n",
    "import sys\n",
    "sys.path.insert(0, '../ToolBox')\n",
    "\n",
    "import CrossValidation, MLP, Helper, ZScore"
   ]
  },
  {
   "cell_type": "code",
   "execution_count": null,
   "metadata": {
    "collapsed": false
   },
   "outputs": [],
   "source": [
    "train = pd.read_csv('./train.csv')\n",
    "keys = [\"OutcomeType\", \"AnimalType\", \"SexuponOutcome\", \"AgeuponOutcome\", \"Breed\", \"Color\"]\n",
    "train"
   ]
  },
  {
   "cell_type": "code",
   "execution_count": null,
   "metadata": {
    "collapsed": false
   },
   "outputs": [],
   "source": [
    "print \"OutcomeType\"\n",
    "\n",
    "dict_temp = {}\n",
    "\n",
    "dict_temp[\"OutcomeType\"] = np.array([val for val in train.OutcomeType.unique() if str(val) != 'nan'and str(val).lower() != 'unknown'])\n",
    "dict_temp[\"OutcomeType\"] = np.sort(dict_temp[\"OutcomeType\"]) #To make easier the construction of submission.\n",
    "dict_temp[\"OutcomeType\"]"
   ]
  },
  {
   "cell_type": "code",
   "execution_count": null,
   "metadata": {
    "collapsed": false
   },
   "outputs": [],
   "source": [
    "#print \"OutcomeSubtype\"\n",
    "\n",
    "#dict_temp[\"OutcomeSubtype\"] = np.array([val for val in train.OutcomeSubtype.unique() if str(val) != 'nan'and str(val).lower() != 'unknown'])\n",
    "#dict_temp[\"OutcomeSubtype\"] "
   ]
  },
  {
   "cell_type": "code",
   "execution_count": null,
   "metadata": {
    "collapsed": false
   },
   "outputs": [],
   "source": [
    "print \"Breed\"\n",
    "dict_temp[\"Breed\"] = np.array([val for val in train.Breed.unique() if str(val) != 'nan'and str(val).lower() != 'unknown'])\n",
    "np.set_printoptions(threshold='nan')\n",
    "dict_temp[\"Breed\"]"
   ]
  },
  {
   "cell_type": "code",
   "execution_count": null,
   "metadata": {
    "collapsed": false
   },
   "outputs": [],
   "source": [
    "print \"AnimalType\"\n",
    "dict_temp[\"AnimalType\"] = np.array([val for val in train.AnimalType.unique() if str(val) != 'nan'and str(val).lower() != 'unknown'])\n",
    "np.set_printoptions(threshold='nan')\n",
    "dict_temp[\"AnimalType\"]"
   ]
  },
  {
   "cell_type": "code",
   "execution_count": null,
   "metadata": {
    "collapsed": false
   },
   "outputs": [],
   "source": [
    "print \"SexuponOutcome\"\n",
    "dict_temp[\"SexuponOutcome\"] = np.array([val for val in train.SexuponOutcome.unique() if str(val) != 'nan' and str(val).lower() != 'unknown'])\n",
    "dict_temp[\"SexuponOutcome\"]"
   ]
  },
  {
   "cell_type": "code",
   "execution_count": null,
   "metadata": {
    "collapsed": false
   },
   "outputs": [],
   "source": [
    "print \"AgeuponOutcome\"\n",
    "dict_temp[\"AgeuponOutcome\"] = train.AgeuponOutcome.unique()\n",
    "dict_temp[\"AgeuponOutcome\"] "
   ]
  },
  {
   "cell_type": "code",
   "execution_count": null,
   "metadata": {
    "collapsed": false
   },
   "outputs": [],
   "source": [
    "print \"Color\"\n",
    "dict_temp[\"Color\"] = np.array([val for val in train.Color.unique() if str(val) != 'nan' and str(val).lower() != 'unknown'])\n",
    "dict_temp[\"Color\"]\n",
    "\n",
    "dict_colors = {}\n",
    "\n",
    "i = 1\n",
    "\n",
    "for value in dict_temp[\"Color\"]:\n",
    "    if value not in dict_colors and '/' not in value:\n",
    "        dict_colors[value] = i\n",
    "        i+=1\n",
    "    elif value not in dict_colors and  '/' in value:\n",
    "        temp_val = value.split('/')\n",
    "        temp = '{1}/{0}'.format(temp_val[0], temp_val[1]) \n",
    "        if temp not in dict_colors:\n",
    "            dict_colors[value] = i\n",
    "            i += 1\n",
    "\n",
    "#print dict_colors\n",
    "            \n",
    "def getColorCode(colorValue):\n",
    "    if colorValue in dict_colors:\n",
    "        return dict_colors[colorValue]\n",
    "    splits = colorValue.split('/')\n",
    "    if len(splits) > 1: #Must be 2\n",
    "        val = '{1}/{0}'.format(splits[0], splits[1])\n",
    "        if val in dict_colors:\n",
    "            return dict_colors[val]\n",
    "    return 0"
   ]
  },
  {
   "cell_type": "code",
   "execution_count": null,
   "metadata": {
    "collapsed": false
   },
   "outputs": [],
   "source": [
    "dict_colors"
   ]
  },
  {
   "cell_type": "code",
   "execution_count": null,
   "metadata": {
    "collapsed": false
   },
   "outputs": [],
   "source": [
    "import math\n",
    "\n",
    "keys"
   ]
  },
  {
   "cell_type": "code",
   "execution_count": null,
   "metadata": {
    "collapsed": true
   },
   "outputs": [],
   "source": [
    "def convertAgeToNum(age):\n",
    "    if str(age).isdigit():\n",
    "        return age\n",
    "    elif str(age) == 'nan':\n",
    "        return 0\n",
    "    else:\n",
    "        age = age.strip()\n",
    "        age = age.lower()\n",
    "        splits = age.split()\n",
    "        if \"year\" in splits[1]:\n",
    "            return float(splits[0]) * 365\n",
    "        elif \"month\" in splits[1]:\n",
    "            return float(splits[0]) * 30\n",
    "        elif \"week\" in splits[1]:\n",
    "            return float(splits[0]) * 7\n",
    "        elif \"day\" in splits[1]:\n",
    "            return float(splits[0])"
   ]
  },
  {
   "cell_type": "code",
   "execution_count": null,
   "metadata": {
    "collapsed": false
   },
   "outputs": [],
   "source": [
    "train_transformed = []\n",
    "for idx, row in train.iterrows():\n",
    "    lis = []\n",
    "    for key in keys:\n",
    "        if key == \"AgeuponOutcome\":\n",
    "            age_in_days = convertAgeToNum(row[key])\n",
    "            lis.append(age_in_days)\n",
    "        elif key == 'Color':\n",
    "            if str(row[key]) != \"nan\" and str(row[key]).lower() != \"unknown\":\n",
    "                lis.append(getColorCode(row[key]))\n",
    "            else:\n",
    "                lis.append(0)\n",
    "        elif str(row[key]) != \"nan\" and str(row[key]).lower() != \"unknown\":            \n",
    "            temp = np.where(dict_temp[key] == row[key])[0][0]+1\n",
    "            lis.append(temp)\n",
    "        else:\n",
    "            lis.append(0)\n",
    "    train_transformed.append(np.array(lis))\n"
   ]
  },
  {
   "cell_type": "code",
   "execution_count": null,
   "metadata": {
    "collapsed": false
   },
   "outputs": [],
   "source": [
    "train_transformed = np.array(train_transformed, np.int16)\n",
    "print train_transformed"
   ]
  },
  {
   "cell_type": "code",
   "execution_count": null,
   "metadata": {
    "collapsed": false
   },
   "outputs": [],
   "source": [
    "#Train the model: RandomForest.\n",
    "\n",
    "labels = [x[0] for x in train_transformed]\n",
    "train = [x[1:] for x in train_transformed]"
   ]
  },
  {
   "cell_type": "code",
   "execution_count": null,
   "metadata": {
    "collapsed": false
   },
   "outputs": [],
   "source": [
    "test = pd.read_csv('./test.csv')\n",
    "test_keys = [\"AnimalType\", \"SexuponOutcome\", \"AgeuponOutcome\", \"Breed\", \"Color\"]\n",
    "test"
   ]
  },
  {
   "cell_type": "code",
   "execution_count": null,
   "metadata": {
    "collapsed": false
   },
   "outputs": [],
   "source": [
    "test_transformed = []\n",
    "for idx, row in test.iterrows():\n",
    "    lis = []\n",
    "    for key in test_keys:\n",
    "        if key == \"AgeuponOutcome\":\n",
    "            age_in_days = convertAgeToNum(row[key])\n",
    "            lis.append(age_in_days)\n",
    "        elif key == 'Color':\n",
    "            if str(row[key]) != \"nan\" and str(row[key]).lower() != \"unknown\":\n",
    "                lis.append(getColorCode(row[key]))\n",
    "            else:\n",
    "                lis.append(0)\n",
    "        elif str(row[key]) != \"nan\" and str(row[key]).lower() != \"unknown\":\n",
    "            temp = np.where(dict_temp[key] == row[key])\n",
    "            if len(temp[0]) > 0:\n",
    "                lis.append(temp[0][0]+1)\n",
    "            else:\n",
    "                lis.append(0)\n",
    "        else:\n",
    "            lis.append(0)\n",
    "    test_transformed.append(np.array(lis))"
   ]
  },
  {
   "cell_type": "code",
   "execution_count": null,
   "metadata": {
    "collapsed": false
   },
   "outputs": [],
   "source": [
    "test_transformed = np.array(test_transformed, np.int16)\n",
    "#np.set_printoptions(threshold='nan')\n",
    "print test_transformed"
   ]
  },
  {
   "cell_type": "code",
   "execution_count": null,
   "metadata": {
    "collapsed": false,
    "scrolled": false
   },
   "outputs": [],
   "source": [
    "#train = np.array(train)\n",
    "#trainSet = train[:int(train.shape[0]*0.7), :]\n",
    "#valSet = train[int(train.shape[0]*0.7):,:]\n",
    "\n",
    "#labels = np.array(labels)\n",
    "#trainLabelSet = labels[:int(labels.shape[0]*0.7)]\n",
    "#valLabelSet = labels[int(labels.shape[0]*0.7):]\n",
    "\n",
    "\n",
    "#train = np.array(train)\n",
    "#trainSet = train[:70, :]\n",
    "#valSet = train[71:100,:]\n",
    "\n",
    "#labels = np.array(labels)\n",
    "#trainLabelSet = labels[:70]\n",
    "#valLabelSet = labels[71:100]"
   ]
  },
  {
   "cell_type": "code",
   "execution_count": null,
   "metadata": {
    "collapsed": false
   },
   "outputs": [],
   "source": [
    "#import yaml\n",
    "\n",
    "#with open(\"./ToolBox/params.json\") as data_file:\n",
    "    ##params = json.loads(data_file, object_hook=ascii_encode_dict)\n",
    "#    params = yaml.safe_load(data_file)\n",
    "    \n",
    "#functions = CrossValidation.init(params, trainSet, trainLabelSet, valSet, valLabelSet)\n",
    "\n",
    "#best_config = functions[\"svm\"](decision_function_shape=\"ovo\")\n",
    "\n",
    "#best_config"
   ]
  },
  {
   "cell_type": "code",
   "execution_count": null,
   "metadata": {
    "collapsed": true
   },
   "outputs": [],
   "source": [
    "#from sklearn import svm\n",
    "\n",
    "#rf = svm.SVC(decision_function_shape='ovo')\n",
    "#rf.fit(train, labels)"
   ]
  },
  {
   "cell_type": "code",
   "execution_count": null,
   "metadata": {
    "collapsed": false
   },
   "outputs": [],
   "source": [
    "#np.savetxt('./submission_SVM_OVO.csv', rf.predict(test_transformed), delimiter=',', fmt='%f')"
   ]
  },
  {
   "cell_type": "code",
   "execution_count": null,
   "metadata": {
    "collapsed": false
   },
   "outputs": [],
   "source": [
    "#res = np.loadtxt('submission_SVM_OVO.csv', delimiter=',')\n",
    "\n",
    "#lis = []\n",
    "#for idx, y in enumerate(res):\n",
    "#    temp_lis = np.zeros(6)\n",
    "#    temp_lis[0] = idx+1\n",
    "#    temp_lis[y] = 1\n",
    "#    lis.append(temp_lis)\n",
    "\n",
    "#np.savetxt('submission_SVM_OVO.csv', lis, fmt='%d', delimiter=',')"
   ]
  },
  {
   "cell_type": "code",
   "execution_count": null,
   "metadata": {
    "collapsed": false
   },
   "outputs": [],
   "source": [
    "import yaml\n",
    "\n",
    "with open(\"../ToolBox/params.json\") as data_file:\n",
    "    params = yaml.safe_load(data_file)\n",
    "\n",
    "dict_zscore = ZScore.init()\n",
    "\n",
    "print \"Starting normalization of train data.\"\n",
    "train_mean, train_stddev = dict_zscore[\"z_score_compute\"](train)\n",
    "print \"Mean and stddev calculated.\"\n",
    "normalized_train_data = dict_zscore[\"z_score_normalize\"](train, train_mean, train_stddev)\n",
    "print \"Normalized.\"\n",
    "\n",
    "print np.array(normalized_train_data).shape\n",
    "\n",
    "\n",
    "\n",
    "data_dict={\"y\": Helper.convert_one_hot_encoding(np.array(labels)), \"x\":np.array(normalized_train_data)}\n",
    "\n",
    "print data_dict[\"y\"].shape\n",
    "print params['MLP'][\"output-dim\"]\n",
    "\n",
    "print \"Starting training.\"\n",
    "dict_mlp = MLP.init(params['MLP'])\n",
    "print \"Training.\"\n",
    "dict_mlp['train'](data_dict)\n",
    "print \"Training finished.\"\n",
    "\n",
    "print \"Starting normalization of test data.\"\n",
    "normalized_test_data = dict_zscore[\"z_score_normalize\"](test_transformed, train_mean, train_stddev)\n",
    "print \"Predicting with test data.\"\n",
    "print normalized_test_data.shape\n",
    "result_dict = dict_mlp['predict'](normalized_test_data)\n",
    "print \"Prediction:\"\n",
    "result_dict"
   ]
  },
  {
   "cell_type": "code",
   "execution_count": null,
   "metadata": {
    "collapsed": false
   },
   "outputs": [],
   "source": [
    "lis = []\n",
    "\n",
    "for idx, z in enumerate(result_dict[\"network_0\"]):\n",
    "    temp_str = str(idx+1)\n",
    "    for i in xrange()\n",
    "    \n",
    "    for idy, x in enumerate(z.tolist()):\n",
    "        temp_str = temp_str+\"- \"+str(x)\n",
    "    lis.append(temp_str)\n",
    "    print np.array(lis)\n",
    "    break\n",
    "    \n",
    "#lis = np.array(lis)\n",
    "#np.savetxt('result2.txt', lis, fmt='%d', delimiter=',')"
   ]
  },
  {
   "cell_type": "code",
   "execution_count": null,
   "metadata": {
    "collapsed": true
   },
   "outputs": [],
   "source": []
  }
 ],
 "metadata": {
  "kernelspec": {
   "display_name": "Python 2",
   "language": "python",
   "name": "python2"
  },
  "language_info": {
   "codemirror_mode": {
    "name": "ipython",
    "version": 2
   },
   "file_extension": ".py",
   "mimetype": "text/x-python",
   "name": "python",
   "nbconvert_exporter": "python",
   "pygments_lexer": "ipython2",
   "version": "2.7.11+"
  }
 },
 "nbformat": 4,
 "nbformat_minor": 0
}
