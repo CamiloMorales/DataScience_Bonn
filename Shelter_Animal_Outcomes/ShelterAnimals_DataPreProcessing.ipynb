{
 "cells": [
  {
   "cell_type": "code",
   "execution_count": 1,
   "metadata": {
    "collapsed": false
   },
   "outputs": [],
   "source": [
    "import pandas as pd\n",
    "import numpy as np\n",
    "from pandas import DataFrame, read_csv\n",
    "import json\n",
    "import math\n",
    "\n",
    "import sys\n",
    "sys.path.insert(0, '../ToolBox')\n",
    "\n",
    "import ZScore\n",
    "\n",
    "import os, sys\n",
    "import cPickle"
   ]
  },
  {
   "cell_type": "code",
   "execution_count": 2,
   "metadata": {
    "collapsed": false
   },
   "outputs": [],
   "source": [
    "train = pd.read_csv('./train.csv')\n",
    "keys = [\"OutcomeType\", \"AnimalType\", \"SexuponOutcome\", \"AgeuponOutcome\", \"Breed\", \"Color\"]"
   ]
  },
  {
   "cell_type": "code",
   "execution_count": 3,
   "metadata": {
    "collapsed": false
   },
   "outputs": [],
   "source": [
    "dict_temp = {}\n",
    "\n",
    "dict_temp[\"OutcomeType\"] = np.array([val for val in train.OutcomeType.unique() if str(val) != 'nan'and str(val).lower() != 'unknown'])\n",
    "dict_temp[\"OutcomeType\"] = np.sort(dict_temp[\"OutcomeType\"]) #To make easier the construction of submission."
   ]
  },
  {
   "cell_type": "code",
   "execution_count": 4,
   "metadata": {
    "collapsed": false
   },
   "outputs": [],
   "source": [
    "dict_temp[\"Breed\"] = np.array([val for val in train.Breed.unique() if str(val) != 'nan'and  'unknown' not in str(val).lower()])\n",
    "np.set_printoptions(threshold='nan')"
   ]
  },
  {
   "cell_type": "code",
   "execution_count": 5,
   "metadata": {
    "collapsed": false
   },
   "outputs": [],
   "source": [
    "dict_temp[\"AnimalType\"] = np.array([val for val in train.AnimalType.unique() if str(val) != 'nan' and 'unknown' not in str(val).lower()])\n",
    "np.set_printoptions(threshold='nan')"
   ]
  },
  {
   "cell_type": "code",
   "execution_count": 6,
   "metadata": {
    "collapsed": false
   },
   "outputs": [],
   "source": [
    "dict_temp[\"SexuponOutcome\"] = np.array([val for val in train.SexuponOutcome.unique() if str(val) != 'nan' and 'unknown' not in str(val).lower()])"
   ]
  },
  {
   "cell_type": "code",
   "execution_count": 7,
   "metadata": {
    "collapsed": false
   },
   "outputs": [],
   "source": [
    "dict_temp[\"AgeuponOutcome\"] = train.AgeuponOutcome.unique()"
   ]
  },
  {
   "cell_type": "code",
   "execution_count": 8,
   "metadata": {
    "collapsed": false
   },
   "outputs": [],
   "source": [
    "dict_temp[\"Color\"] = np.array([val for val in train.Color.unique() if str(val) != 'nan' and str(val).lower() != 'unknown'])\n",
    "\n",
    "dict_colors = {}\n",
    "\n",
    "i = 1\n",
    "\n",
    "for value in dict_temp[\"Color\"]:\n",
    "    if value not in dict_colors and '/' not in value:\n",
    "        dict_colors[value] = i\n",
    "        i+=1\n",
    "    elif value not in dict_colors and  '/' in value:\n",
    "        temp_val = value.split('/')\n",
    "        temp = '{1}/{0}'.format(temp_val[0], temp_val[1]) \n",
    "        if temp not in dict_colors:\n",
    "            dict_colors[value] = i\n",
    "            i += 1\n",
    "\n",
    "def getColorCode(colorValue):\n",
    "    if colorValue in dict_colors:\n",
    "        return dict_colors[colorValue]\n",
    "    splits = colorValue.split('/')\n",
    "    if len(splits) > 1: #Must be 2\n",
    "        val = '{1}/{0}'.format(splits[0], splits[1])\n",
    "        if val in dict_colors:\n",
    "            return dict_colors[val]\n",
    "    return 0"
   ]
  },
  {
   "cell_type": "code",
   "execution_count": 9,
   "metadata": {
    "collapsed": true
   },
   "outputs": [],
   "source": [
    "def convertAgeToNum(age):\n",
    "    if str(age).isdigit():\n",
    "        return age\n",
    "    elif str(age) == 'nan':\n",
    "        return 0\n",
    "    else:\n",
    "        age = age.strip()\n",
    "        age = age.lower()\n",
    "        splits = age.split()\n",
    "        if \"year\" in splits[1]:\n",
    "            return float(splits[0]) * 365\n",
    "        elif \"month\" in splits[1]:\n",
    "            return float(splits[0]) * 30\n",
    "        elif \"week\" in splits[1]:\n",
    "            return float(splits[0]) * 7\n",
    "        elif \"day\" in splits[1]:\n",
    "            return float(splits[0])"
   ]
  },
  {
   "cell_type": "code",
   "execution_count": 10,
   "metadata": {
    "collapsed": false
   },
   "outputs": [],
   "source": [
    "train_transformed = []\n",
    "for idx, row in train.iterrows():\n",
    "    lis = []\n",
    "    for key in keys:\n",
    "        if key == \"AgeuponOutcome\":\n",
    "            age_in_days = convertAgeToNum(row[key])\n",
    "            lis.append(age_in_days)\n",
    "        elif key == 'Color':\n",
    "            if str(row[key]) != \"nan\" and \"unknown\" not in str(row[key]).lower():\n",
    "                lis.append(getColorCode(row[key]))\n",
    "            else:\n",
    "                lis.append(0)\n",
    "        elif str(row[key]) != \"nan\" and \"unknown\" not in str(row[key]).lower():\n",
    "            temp = np.where(dict_temp[key] == row[key])[0][0]+1\n",
    "            lis.append(temp)\n",
    "        else:\n",
    "            lis.append(0)\n",
    "    train_transformed.append(np.array(lis))"
   ]
  },
  {
   "cell_type": "code",
   "execution_count": 11,
   "metadata": {
    "collapsed": false
   },
   "outputs": [],
   "source": [
    "train_transformed = np.array(train_transformed, np.int16)"
   ]
  },
  {
   "cell_type": "code",
   "execution_count": 12,
   "metadata": {
    "collapsed": false
   },
   "outputs": [],
   "source": [
    "labels = [x[0] for x in train_transformed]\n",
    "train = [x[1:] for x in train_transformed]"
   ]
  },
  {
   "cell_type": "code",
   "execution_count": 13,
   "metadata": {
    "collapsed": false
   },
   "outputs": [],
   "source": [
    "test = pd.read_csv('./test.csv')\n",
    "test_keys = [\"AnimalType\", \"SexuponOutcome\", \"AgeuponOutcome\", \"Breed\", \"Color\"]"
   ]
  },
  {
   "cell_type": "code",
   "execution_count": 14,
   "metadata": {
    "collapsed": false
   },
   "outputs": [],
   "source": [
    "test_transformed = []\n",
    "for idx, row in test.iterrows():\n",
    "    lis = []\n",
    "    for key in test_keys:\n",
    "        if key == \"AgeuponOutcome\":\n",
    "            age_in_days = convertAgeToNum(row[key])\n",
    "            lis.append(age_in_days)\n",
    "        elif key == 'Color':\n",
    "            if str(row[key]) != \"nan\" and str(row[key]).lower() != \"unknown\":\n",
    "                lis.append(getColorCode(row[key]))\n",
    "            else:\n",
    "                lis.append(0)\n",
    "        elif str(row[key]) != \"nan\" and str(row[key]).lower() != \"unknown\":\n",
    "            temp = np.where(dict_temp[key] == row[key])\n",
    "            if len(temp[0]) > 0:\n",
    "                lis.append(temp[0][0]+1)\n",
    "            else:\n",
    "                lis.append(0)\n",
    "        else:\n",
    "            lis.append(0)\n",
    "    test_transformed.append(np.array(lis))"
   ]
  },
  {
   "cell_type": "code",
   "execution_count": 15,
   "metadata": {
    "collapsed": false
   },
   "outputs": [],
   "source": [
    "train_transformed = np.array(train, np.float32)\n",
    "test_transformed = np.array(test_transformed, np.float32)"
   ]
  },
  {
   "cell_type": "code",
   "execution_count": 16,
   "metadata": {
    "collapsed": false,
    "scrolled": false
   },
   "outputs": [],
   "source": [
    "dict_zscore = ZScore.init()\n",
    "train_mean, train_stddev = dict_zscore[\"z_score_compute\"](train_transformed)\n",
    "normalized_train_data = dict_zscore[\"z_score_normalize\"](train_transformed, train_mean, train_stddev)\n",
    "normalized_test_data = dict_zscore[\"z_score_normalize\"](test_transformed, train_mean, train_stddev)"
   ]
  },
  {
   "cell_type": "code",
   "execution_count": 17,
   "metadata": {
    "collapsed": false
   },
   "outputs": [],
   "source": [
    "if 'pre_processed_data' not in os.listdir(\".\"):\n",
    "    os.mkdir('pre_processed_data')\n",
    "labels = np.array(labels)\n",
    "labels = np.reshape(labels, [26729, 1])\n",
    "train_final = np.append(np.array(labels), normalized_train_data, axis=1)"
   ]
  },
  {
   "cell_type": "code",
   "execution_count": 18,
   "metadata": {
    "collapsed": true
   },
   "outputs": [],
   "source": [
    "f = open('pre_processed_data/train_preprocessed.pkl', 'w')\n",
    "cPickle.dump(np.array(train_final, np.float32), f, -1)\n",
    "f.close()\n",
    "\n",
    "g = open('pre_processed_data/test_preprocessed.pkl', 'w')\n",
    "cPickle.dump(np.array(normalized_test_data, np.float32), g, -1)\n",
    "g.close()"
   ]
  },
  {
   "cell_type": "code",
   "execution_count": null,
   "metadata": {
    "collapsed": true
   },
   "outputs": [],
   "source": []
  }
 ],
 "metadata": {
  "kernelspec": {
   "display_name": "Python 2",
   "language": "python",
   "name": "python2"
  },
  "language_info": {
   "codemirror_mode": {
    "name": "ipython",
    "version": 2
   },
   "file_extension": ".py",
   "mimetype": "text/x-python",
   "name": "python",
   "nbconvert_exporter": "python",
   "pygments_lexer": "ipython2",
   "version": "2.7.11+"
  }
 },
 "nbformat": 4,
 "nbformat_minor": 0
}
