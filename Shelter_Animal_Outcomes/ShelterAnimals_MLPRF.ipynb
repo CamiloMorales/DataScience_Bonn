{
 "cells": [
  {
   "cell_type": "code",
   "execution_count": null,
   "metadata": {
    "collapsed": false
   },
   "outputs": [],
   "source": [
    "import tensorflow as tf\n",
    "import pandas as pd\n",
    "import numpy as np\n",
    "from pandas import DataFrame, read_csv\n",
    "import json\n",
    "\n",
    "import sys\n",
    "sys.path.insert(0, '../ToolBox')\n",
    "\n",
    "import CrossValidation, MLP, Helper, ZScore, RandomForest\n",
    "\n",
    "import os, sys\n",
    "import cPickle"
   ]
  },
  {
   "cell_type": "code",
   "execution_count": null,
   "metadata": {
    "collapsed": false
   },
   "outputs": [],
   "source": [
    "saved_train_data = open('pre_processed_data/train_preprocessed.pkl', 'rb')\n",
    "normalized_train_data = cPickle.load(saved_train_data)"
   ]
  },
  {
   "cell_type": "code",
   "execution_count": null,
   "metadata": {
    "collapsed": false
   },
   "outputs": [],
   "source": [
    "saved_test_data = open('pre_processed_data/test_preprocessed.pkl', 'rb')\n",
    "normalized_test_data = cPickle.load(saved_test_data)"
   ]
  },
  {
   "cell_type": "code",
   "execution_count": null,
   "metadata": {
    "collapsed": false
   },
   "outputs": [],
   "source": [
    "import yaml\n",
    "\n",
    "with open(\"../ToolBox/params.json\") as data_file:\n",
    "    params = yaml.safe_load(data_file)\n",
    "print 'json loaded'\n",
    "labels = normalized_train_data[:,0]\n",
    "print labels.shape\n",
    "labels = np.reshape(labels, [labels.shape[0], 1])\n",
    "print labels.shape\n",
    "labels = np.subtract(np.array(labels), 1)\n",
    "data_dict = dict({'x':normalized_train_data[:,1:], 'y':Helper.convert_one_hot_encoding(labels,params['MLPandRF']['MLP']['output-dim'])})\n",
    "\n",
    "print data_dict['y'].shape\n",
    "\n",
    "mlp = MLP.init(params['MLPandRF']['MLP'])\n",
    "mlp['train'](data_dict)\n",
    "\n",
    "data_dict['x'] = mlp['predict'](data_dict['x'], 1)\n",
    "data_dict['y'] = labels\n",
    "\n",
    "test_transformed = mlp['predict'](normalized_test_data, 1)\n",
    "\n",
    "rf = RandomForest.init(params['MLPandRF']['RF'])\n",
    "model = rf['train'](data_dict)\n",
    "result_dict = rf['predict_probabilities'](test_transformed, model)\n",
    "result_dict"
   ]
  },
  {
   "cell_type": "code",
   "execution_count": null,
   "metadata": {
    "collapsed": false
   },
   "outputs": [],
   "source": [
    "#lis = []\n",
    "#lis.append(\"ID,Adoption,Died,Euthanasia,Return_to_owner,Transfer\")\n",
    "\n",
    "#for idx, z in enumerate(result_dict[\"network_0\"]):\n",
    "#    zList = z[0].tolist()\n",
    "#    temp_str = str(idx+1)\n",
    "#    for idy, x in enumerate(zList):\n",
    "#        temp_str = temp_str+\", \"+str(x)\n",
    "#    lis.append(temp_str)\n",
    "\n",
    "\n",
    "#lis = np.array(lis)\n",
    "#np.savetxt('result_shelter_animal_outcomes.csv', lis, fmt='%s', delimiter=',')"
   ]
  },
  {
   "cell_type": "code",
   "execution_count": null,
   "metadata": {
    "collapsed": true
   },
   "outputs": [],
   "source": []
  }
 ],
 "metadata": {
  "kernelspec": {
   "display_name": "Python 2",
   "language": "python",
   "name": "python2"
  },
  "language_info": {
   "codemirror_mode": {
    "name": "ipython",
    "version": 2
   },
   "file_extension": ".py",
   "mimetype": "text/x-python",
   "name": "python",
   "nbconvert_exporter": "python",
   "pygments_lexer": "ipython2",
   "version": "2.7.11+"
  }
 },
 "nbformat": 4,
 "nbformat_minor": 0
}
