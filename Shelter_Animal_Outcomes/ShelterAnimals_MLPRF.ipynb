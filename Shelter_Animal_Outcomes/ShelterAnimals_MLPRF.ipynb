{
 "cells": [
  {
   "cell_type": "code",
   "execution_count": 1,
   "metadata": {
    "collapsed": false
   },
   "outputs": [],
   "source": [
    "import tensorflow as tf\n",
    "import pandas as pd\n",
    "import numpy as np\n",
    "from pandas import DataFrame, read_csv\n",
    "import json\n",
    "\n",
    "import sys\n",
    "sys.path.insert(0, '../ToolBox')\n",
    "\n",
    "import CrossValidation, MLP, Helper, ZScore, RandomForest\n",
    "\n",
    "import os, sys\n",
    "import cPickle"
   ]
  },
  {
   "cell_type": "code",
   "execution_count": 2,
   "metadata": {
    "collapsed": false
   },
   "outputs": [],
   "source": [
    "saved_train_data = open('pre_processed_data/train_preprocessed.pkl', 'rb')\n",
    "normalized_train_data = cPickle.load(saved_train_data)"
   ]
  },
  {
   "cell_type": "code",
   "execution_count": 3,
   "metadata": {
    "collapsed": false
   },
   "outputs": [],
   "source": [
    "saved_test_data = open('pre_processed_data/test_preprocessed.pkl', 'rb')\n",
    "normalized_test_data = cPickle.load(saved_test_data)"
   ]
  },
  {
   "cell_type": "code",
   "execution_count": 4,
   "metadata": {
    "collapsed": false
   },
   "outputs": [
    {
     "name": "stdout",
     "output_type": "stream",
     "text": [
      "json loaded\n",
      "(26729,)\n",
      "(26729, 1)\n",
      "(26729, 5)\n",
      "(26729, 10)\n"
     ]
    },
    {
     "name": "stderr",
     "output_type": "stream",
     "text": [
      "../ToolBox/RandomForest.py:16: DataConversionWarning: A column-vector y was passed when a 1d array was expected. Please change the shape of y to (n_samples,), for example using ravel().\n",
      "  model.fit(data['x'], data['y'])\n"
     ]
    },
    {
     "data": {
      "text/plain": [
       "array([[ 0.03356976,  0.00273399,  0.1074438 ,  0.33948071,  0.51677174],\n",
       "       [ 0.53675905,  0.0016309 ,  0.02560891,  0.26244556,  0.17355558],\n",
       "       [ 0.36152865,  0.0027082 ,  0.02979702,  0.1216442 ,  0.48432193],\n",
       "       ..., \n",
       "       [ 0.01227349,  0.00696045,  0.06599601,  0.01135801,  0.90341205],\n",
       "       [ 0.32829691,  0.00125175,  0.05301526,  0.43592707,  0.18150902],\n",
       "       [ 0.02273914,  0.00588772,  0.23454858,  0.40186644,  0.33495812]])"
      ]
     },
     "execution_count": 4,
     "metadata": {},
     "output_type": "execute_result"
    }
   ],
   "source": [
    "import yaml\n",
    "\n",
    "with open(\"../ToolBox/params.json\") as data_file:\n",
    "    params = yaml.safe_load(data_file)\n",
    "print 'json loaded'\n",
    "labels = normalized_train_data[:,0]\n",
    "print labels.shape\n",
    "labels = np.reshape(labels, [labels.shape[0], 1])\n",
    "print labels.shape\n",
    "labels = np.subtract(np.array(labels), 1)\n",
    "data_dict = dict({'x':normalized_train_data[:,1:], 'y':Helper.convert_one_hot_encoding(labels,params['MLPandRF']['MLP']['output-dim'])})\n",
    "\n",
    "print data_dict['y'].shape\n",
    "\n",
    "mlp = MLP.init(params['MLPandRF']['MLP'])\n",
    "mlp['train'](data_dict)\n",
    "\n",
    "data_dict['x'] = mlp['predict'](data_dict['x'], 1)\n",
    "data_dict['y'] = labels\n",
    "\n",
    "print np.array(data_dict['x']).shape\n",
    "\n",
    "test_transformed = mlp['predict'](normalized_test_data, 1)\n",
    "\n",
    "rf = RandomForest.init(params['MLPandRF']['RF'])\n",
    "model = rf['train'](data_dict)\n",
    "result_dict = rf['predict_probabilities'](test_transformed, model)\n",
    "result_dict"
   ]
  },
  {
   "cell_type": "code",
   "execution_count": 5,
   "metadata": {
    "collapsed": false
   },
   "outputs": [
    {
     "name": "stdout",
     "output_type": "stream",
     "text": [
      "(11456, 5)\n"
     ]
    }
   ],
   "source": [
    "print result_dict.shape\n",
    "\n",
    "lis = []\n",
    "lis.append(\"ID,Adoption,Died,Euthanasia,Return_to_owner,Transfer\")\n",
    "\n",
    "for idx, z in enumerate(result_dict):\n",
    "    string = str(idx+1)\n",
    "    for prob in z:\n",
    "        string += ',' + str(prob)\n",
    "    lis.append(string)\n",
    "\n",
    "lis = np.array(lis)\n",
    "np.savetxt('result_shelter_animal_outcomes.csv', lis, fmt='%s', delimiter=',')"
   ]
  },
  {
   "cell_type": "code",
   "execution_count": null,
   "metadata": {
    "collapsed": true
   },
   "outputs": [],
   "source": []
  }
 ],
 "metadata": {
  "kernelspec": {
   "display_name": "Python 2",
   "language": "python",
   "name": "python2"
  },
  "language_info": {
   "codemirror_mode": {
    "name": "ipython",
    "version": 2
   },
   "file_extension": ".py",
   "mimetype": "text/x-python",
   "name": "python",
   "nbconvert_exporter": "python",
   "pygments_lexer": "ipython2",
   "version": "2.7.11+"
  }
 },
 "nbformat": 4,
 "nbformat_minor": 0
}
