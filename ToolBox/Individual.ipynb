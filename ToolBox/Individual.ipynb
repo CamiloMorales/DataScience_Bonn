{
 "cells": [
  {
   "cell_type": "code",
   "execution_count": 1,
   "metadata": {
    "collapsed": true
   },
   "outputs": [],
   "source": [
    "import numpy as np"
   ]
  },
  {
   "cell_type": "code",
   "execution_count": 2,
   "metadata": {
    "collapsed": false
   },
   "outputs": [],
   "source": [
    "class Individual(object):\n",
    "    def __init__(self):\n",
    "        self._individual = []\n",
    "        self._fitness = np.inf\n",
    "\n",
    "    def __repr__(self):\n",
    "        return \"<\"+str(self._individual)+\" , \"+str(self._fitness)+\">\"\n",
    "        \n",
    "    @property\n",
    "    def individual(self):\n",
    "        return self._individual\n",
    "    \n",
    "    @individual.setter\n",
    "    def setIndividual(self, value):\n",
    "        self._individual = value\n",
    "        \n",
    "    @property\n",
    "    def fitness(self):\n",
    "        return self._fitness\n",
    "    \n",
    "    @fitness.setter\n",
    "    def setFitness(self, value):\n",
    "        self._fitness = value"
   ]
  },
  {
   "cell_type": "code",
   "execution_count": null,
   "metadata": {
    "collapsed": true
   },
   "outputs": [],
   "source": []
  }
 ],
 "metadata": {
  "kernelspec": {
   "display_name": "Python 2",
   "language": "python",
   "name": "python2"
  },
  "language_info": {
   "codemirror_mode": {
    "name": "ipython",
    "version": 2
   },
   "file_extension": ".py",
   "mimetype": "text/x-python",
   "name": "python",
   "nbconvert_exporter": "python",
   "pygments_lexer": "ipython2",
   "version": "2.7.11+"
  }
 },
 "nbformat": 4,
 "nbformat_minor": 0
}
