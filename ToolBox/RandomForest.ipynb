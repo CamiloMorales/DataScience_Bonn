{
 "cells": [
  {
   "cell_type": "code",
   "execution_count": 1,
   "metadata": {
    "collapsed": false
   },
   "outputs": [],
   "source": [
    "import numpy as np\n",
    "from sklearn.ensemble import RandomForestClassifier"
   ]
  },
  {
   "cell_type": "code",
   "execution_count": 2,
   "metadata": {
    "collapsed": false
   },
   "outputs": [],
   "source": [
    "def init(config_random_forests):\n",
    "\n",
    "    def train(data):\n",
    "        labels = data[:,0]\n",
    "        train = data[:,1:]\n",
    "        model = RandomForestClassifier(**config_random_forests)\n",
    "        model.fit(train, labels)\n",
    "        return model\n",
    "\n",
    "    def predict(test_data, model):\n",
    "        return model.predict(test_data)\n",
    "    \n",
    "    def predict_probabilities(test_data, model):\n",
    "        return model.predict_proba(test_data)\n",
    "\n",
    "    return {\n",
    "        'train': train,\n",
    "        'predict': predict,\n",
    "        'predict_probabilities': predict_probabilities\n",
    "    }"
   ]
  },
  {
   "cell_type": "code",
   "execution_count": null,
   "metadata": {
    "collapsed": true
   },
   "outputs": [],
   "source": []
  }
 ],
 "metadata": {
  "kernelspec": {
   "display_name": "Python 2",
   "language": "python",
   "name": "python2"
  },
  "language_info": {
   "codemirror_mode": {
    "name": "ipython",
    "version": 2
   },
   "file_extension": ".py",
   "mimetype": "text/x-python",
   "name": "python",
   "nbconvert_exporter": "python",
   "pygments_lexer": "ipython2",
   "version": "2.7.11+"
  }
 },
 "nbformat": 4,
 "nbformat_minor": 0
}
