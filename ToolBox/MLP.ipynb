{
 "cells": [
  {
   "cell_type": "code",
   "execution_count": null,
   "metadata": {
    "collapsed": false
   },
   "outputs": [],
   "source": [
    "import tensorflow as tf\n",
    "import numpy as np"
   ]
  },
  {
   "cell_type": "code",
   "execution_count": null,
   "metadata": {
    "collapsed": false
   },
   "outputs": [],
   "source": [
    "def init(config_networks):\n",
    "    \n",
    "    graph1 = tf.Graph()\n",
    "    with graph1.as_default():\n",
    "        \n",
    "        x = tf.placeholder(tf.float32, shape=[None, config_networks[\"input-dim\"]])\n",
    "        y = tf.placeholder(tf.float32, shape=[None, config_networks[\"output-dim\"]])\n",
    "        \n",
    "        '''\n",
    "        keep_probs = {}\n",
    "        for idx, config in enumerate(config_networks['configs']):\n",
    "            keep_probs['network_{0}'.format(idx)] = tf.placeholder(tf.float32, shape=[len(config)])\n",
    "        '''\n",
    "        \n",
    "        def create_variable(name, shape):\n",
    "            return tf.get_variable(name, initializer=tf.truncated_normal(shape, stddev=0.1))\n",
    "\n",
    "        def create_mlp(config, x, input_dim):\n",
    "            for idx,layer in enumerate(config):\n",
    "                with tf.variable_scope(\"layer_{0}\".format(idx)):\n",
    "                    W = create_variable(\"weights\", [input_dim, layer[\"num-units\"]])\n",
    "                    b = create_variable(\"biases\", [layer[\"num-units\"]])\n",
    "                    \n",
    "                    x = getattr(tf.nn, layer[\"trans-func\"])(tf.matmul(x, W) + b, name='activation')\n",
    "            \n",
    "                    input_dim = layer[\"num-units\"]\n",
    "            return x\n",
    "    \n",
    "        losses = {}\n",
    "        for idx, config in enumerate(config_networks[\"configs\"]):\n",
    "            with tf.variable_scope(\"network_{0}\".format(idx)):\n",
    "                h = create_mlp(config, x, config_networks['input-dim'])\n",
    "                losses[\"network_{0}\".format(idx)] = tf.reduce_mean(-tf.reduce_sum(y * tf.log(h), reduction_indices=[1]))\n",
    "                \n",
    "        train_steps = [tf.train.AdamOptimizer(1e-4).minimize(loss) for loss in losses.values()]\n",
    "        saver = tf.train.Saver()\n",
    "        \n",
    "        def train(data):\n",
    "            with tf.Session(graph=graph1) as session:\n",
    "                session.run(tf.initialize_all_variables())\n",
    "                \n",
    "                '''\n",
    "                probs = {}\n",
    "                for idx, network in enumerate(config_networks):\n",
    "                    probs['network_{0}'.format(idx)] = [layer['keep-prob'] for layer in network]\n",
    "                '''\n",
    "                \n",
    "                start = 0\n",
    "                for i in xrange(config_networks['max-steps']):\n",
    "                    batch_x = data[\"x\"][start:(start+config_networks['train-batch-size']), :]\n",
    "                    batch_y = data[\"y\"][start:(start+config_networks['train-batch-size']), :]\n",
    "                    start = (start + config_networks['train-batch-size']) % data[\"x\"].shape[0]\n",
    "                    session.run(train_steps, feed_dict={x:batch_x, y:batch_y})\n",
    "                saver.save(session, config_networks['model-param-file'])\n",
    "        \n",
    "        def predict(data, layer_num = None):\n",
    "            results = {}\n",
    "                \n",
    "            with tf.Session(graph=graph1) as session:\n",
    "                saver.restore(session, config_networks['model-param-file'])\n",
    "                for idx,network in enumerate(config_networks[\"configs\"]):\n",
    "                    results[\"network_{0}\".format(idx)] = []\n",
    "                    if layer_num is None:\n",
    "                        layer_num = len(network)-1\n",
    "                    for x_test in data:\n",
    "                        x_test = np.reshape(x_test, [1,x_test.shape[0]])\n",
    "                        results[\"network_{0}\".format(idx)].append(graph1.get_tensor_by_name('{0}/{1}/activation:0'.format('network_{0}'.format(idx), 'layer_{0}'.format(layer_num))).eval(feed_dict={x:x_test}))\n",
    "            return results\n",
    "        \n",
    "        return {\n",
    "            'predict': predict,\n",
    "            'train': train\n",
    "        }"
   ]
  },
  {
   "cell_type": "code",
   "execution_count": null,
   "metadata": {
    "collapsed": true
   },
   "outputs": [],
   "source": []
  }
 ],
 "metadata": {
  "kernelspec": {
   "display_name": "Python 2",
   "language": "python",
   "name": "python2"
  },
  "language_info": {
   "codemirror_mode": {
    "name": "ipython",
    "version": 2
   },
   "file_extension": ".py",
   "mimetype": "text/x-python",
   "name": "python",
   "nbconvert_exporter": "python",
   "pygments_lexer": "ipython2",
   "version": "2.7.11"
  }
 },
 "nbformat": 4,
 "nbformat_minor": 0
}
