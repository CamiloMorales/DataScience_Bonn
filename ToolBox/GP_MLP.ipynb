{
 "cells": [
  {
   "cell_type": "code",
   "execution_count": 1,
   "metadata": {
    "collapsed": true
   },
   "outputs": [],
   "source": [
    "import numpy as np\n",
    "import operator"
   ]
  },
  {
   "cell_type": "code",
   "execution_count": null,
   "metadata": {
    "collapsed": true
   },
   "outputs": [],
   "source": [
    "def init(gp_config, mlp_basic_config, train_set, val_set):\n",
    "    population = []\n",
    "    def create_population():\n",
    "        return \n",
    "    def evaluate_fitness():\n",
    "        for ind in population:\n",
    "            ind_array = ind.get_individual()\n",
    "            layers = []\n",
    "            for layer in xrange(0, len(ind_array), 2):\n",
    "                layer_params = {}\n",
    "                layer_params['num-units'] = ind_array[layer]\n",
    "                layer_params['trans-func'] = transfer_functions[layer+1]\n",
    "                layers.append(layer)\n",
    "            mlp_basic_config['layer-defs'] = layers\n",
    "            mlp = mlp_model.init(mlp_basic_config)\n",
    "            mlp['train'](train_set)\n",
    "            predicted = mlp['predict'](val_set)\n",
    "            ind.set_fitness(np.divide(np.sum(np.multiply(target, np.log(predicted))), predicted.shape[0]))\n",
    "            \n",
    "    def do_cross_over(parent1, parent2):\n",
    "        \n",
    "        def do_cross_over(index, first_parent, second_parent):\n",
    "            child = []\n",
    "            for i in xrange(0, index):\n",
    "                child.append(first_parent[i])\n",
    "            for i in xrange(index, len(second_parent)):\n",
    "                child.append(second_parent[i])\n",
    "            return child\n",
    "        \n",
    "        length = 0\n",
    "        if len(parent1) < len(parent1):\n",
    "            length = len(parent1)\n",
    "        else:\n",
    "            length = len(parent2)\n",
    "        \n",
    "        rand = np.random.randint(0, length - 1)\n",
    "        \n",
    "        if rand % 2 != 0:\n",
    "            rand += 1\n",
    "            \n",
    "        children = []\n",
    "        children.append(do_cross_over(rand, parent1, parent2))\n",
    "        children.append(do_cross_over(rand, parent2, parent1))\n",
    "        \n",
    "        return children\n",
    "    \n",
    "    def do_mutation(individual):\n",
    "        rand = np.random.randint(0, len(individual))\n",
    "        if rand % 2 == 0:\n",
    "            individual[rand] = np.random.randint(gp_config['min-units'], gp_config['max_units'])\n",
    "        else:\n",
    "            individual[rand] = np.random.randint(0, len(functions))\n",
    "        \n",
    "    \n",
    "    def train():\n",
    "        create_population()\n",
    "        for step in xrange(0, gp_config['max-steps']):\n",
    "            evaluate_fitness()\n",
    "            population.sort(key=operator.attrgetter('fitness'))\n",
    "            print 'step:' + str(step) + ' fiteness:' +str(population[0].fitness) \n",
    "            for i in xrange(0, gp_config['population-size'] - gp_config['survival-size']):\n",
    "                del population[-1]\n",
    "            for i in xrange(0, int((gp_config['population-size'] - gp_config['survival-size'])/2)):\n",
    "                p1 = population[np.random.randint(0, gp_config['survival-size'])].get_individual()\n",
    "                p2 = population[np.random.randint(0, gp_config['survival-size'])].get_individual()\n",
    "                children = do_cross_over(p1,p2)\n",
    "                for child in children:\n",
    "                    do_mutation(child)\n",
    "                population += children\n",
    "            \n",
    "        return\n",
    "    return {\n",
    "        'train':train\n",
    "    }"
   ]
  }
 ],
 "metadata": {
  "kernelspec": {
   "display_name": "Python 2",
   "language": "python",
   "name": "python2"
  },
  "language_info": {
   "codemirror_mode": {
    "name": "ipython",
    "version": 2
   },
   "file_extension": ".py",
   "mimetype": "text/x-python",
   "name": "python",
   "nbconvert_exporter": "python",
   "pygments_lexer": "ipython2",
   "version": "2.7.11"
  }
 },
 "nbformat": 4,
 "nbformat_minor": 0
}
