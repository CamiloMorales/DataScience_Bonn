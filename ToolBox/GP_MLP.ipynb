{
 "cells": [
  {
   "cell_type": "code",
   "execution_count": 1,
   "metadata": {
    "collapsed": true
   },
   "outputs": [],
   "source": [
    "import numpy as np"
   ]
  },
  {
   "cell_type": "code",
   "execution_count": null,
   "metadata": {
    "collapsed": true
   },
   "outputs": [],
   "source": [
    "def init(gp_config):\n",
    "    population = []\n",
    "    def create_population():\n",
    "        return \n",
    "    def evaluate_fitness():\n",
    "        return\n",
    "    def do_cross_over(parent1, parent2):\n",
    "        return\n",
    "    def do_mutation(ind):\n",
    "        return\n",
    "    def train():\n",
    "        return\n",
    "    return {\n",
    "        'train':train\n",
    "    }"
   ]
  }
 ],
 "metadata": {
  "kernelspec": {
   "display_name": "Python 2",
   "language": "python",
   "name": "python2"
  },
  "language_info": {
   "codemirror_mode": {
    "name": "ipython",
    "version": 2
   },
   "file_extension": ".py",
   "mimetype": "text/x-python",
   "name": "python",
   "nbconvert_exporter": "python",
   "pygments_lexer": "ipython2",
   "version": "2.7.11"
  }
 },
 "nbformat": 4,
 "nbformat_minor": 0
}
