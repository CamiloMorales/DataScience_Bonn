{
 "cells": [
  {
   "cell_type": "code",
   "execution_count": null,
   "metadata": {
    "collapsed": false
   },
   "outputs": [],
   "source": [
    "import numpy as np\n",
    "import copy\n",
    "import json\n",
    "import math\n",
    "from sklearn import svm"
   ]
  },
  {
   "cell_type": "code",
   "execution_count": null,
   "metadata": {
    "collapsed": true
   },
   "outputs": [],
   "source": [
    "def init(params, trainSet, trainLabel, valSet, valLabel):\n",
    "\n",
    "    def Parse(in_params, out_params_dict, out_params_list):\n",
    "        if 'level' not in in_params:\n",
    "            out_params_list.append(out_params_dict)\n",
    "            return 0\n",
    "        level = in_params[\"level\"]\n",
    "        for value in level[\"values\"]:\n",
    "            out_params = copy.deepcopy(out_params_dict)\n",
    "            out_params[level[\"param-name\"]] = value[\"name\"]\n",
    "            Parse(value, out_params, out_params_list)\n",
    "            \n",
    "    def ParseParams(in_params):\n",
    "        out_params_dict = {}\n",
    "        out_params_list = []\n",
    "        Parse(in_params, out_params_dict, out_params_list)\n",
    "        return out_params_list\n",
    "            \n",
    "    def SVM(decision_function_shape = None):\n",
    "        svm_params = params[\"SVM\"]\n",
    "        param_configs = ParseParams(svm_params)\n",
    "        best_accuracy = float('-inf')\n",
    "        best_config = {}\n",
    "        for config in param_configs:\n",
    "            config['decision_function_shape'] = decision_function_shape\n",
    "            model = svm.SVC(**config)\n",
    "            model.fit(trainSet, trainLabel)\n",
    "            accuracy = model.score(valSet, valLabel)\n",
    "            if accuracy > best_accuracy:\n",
    "                best_accuracy = accuracy\n",
    "                best_config = config\n",
    "        return best_config\n",
    "        \n",
    "    def MLP():\n",
    "        return 1\n",
    "    def RandomForest():\n",
    "        return 1\n",
    "    def DecisionTree():\n",
    "        return 1\n",
    "    def RBFNet():\n",
    "        return 1\n",
    "    return {\n",
    "        \"svm\": SVM,\n",
    "        \"mlp\": MLP,\n",
    "        \"random-forest\": RandomForest,\n",
    "        \"decision-tree\": DecisionTree,\n",
    "        \"rbf-net\":RBFNet\n",
    "    }"
   ]
  },
  {
   "cell_type": "code",
   "execution_count": null,
   "metadata": {
    "collapsed": false
   },
   "outputs": [],
   "source": []
  },
  {
   "cell_type": "code",
   "execution_count": null,
   "metadata": {
    "collapsed": true
   },
   "outputs": [],
   "source": []
  }
 ],
 "metadata": {
  "kernelspec": {
   "display_name": "Python 2",
   "language": "python",
   "name": "python2"
  },
  "language_info": {
   "codemirror_mode": {
    "name": "ipython",
    "version": 2
   },
   "file_extension": ".py",
   "mimetype": "text/x-python",
   "name": "python",
   "nbconvert_exporter": "python",
   "pygments_lexer": "ipython2",
   "version": "2.7.11"
  }
 },
 "nbformat": 4,
 "nbformat_minor": 0
}
