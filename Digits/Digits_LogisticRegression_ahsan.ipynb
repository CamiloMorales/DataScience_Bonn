{
 "cells": [
  {
   "cell_type": "code",
   "execution_count": 1,
   "metadata": {
    "collapsed": false
   },
   "outputs": [],
   "source": [
    "import tensorflow as tf\n",
    "import pandas as pd\n",
    "import numpy as np\n",
    "from pandas import DataFrame, read_csv"
   ]
  },
  {
   "cell_type": "code",
   "execution_count": 2,
   "metadata": {
    "collapsed": false
   },
   "outputs": [],
   "source": [
    "train = pd.read_csv('./train.csv').as_matrix()\n",
    "np.random.shuffle(train)\n",
    "val = train[0:12000,:]\n",
    "train = train[12000:,:]"
   ]
  },
  {
   "cell_type": "code",
   "execution_count": 3,
   "metadata": {
    "collapsed": true
   },
   "outputs": [],
   "source": [
    "def convertOneHotEncoding(y):\n",
    "    oneHot = np.zeros([y.shape[0], 10])\n",
    "    for idx, l in enumerate(y):\n",
    "        oneHot[idx, l] = 1\n",
    "    return oneHot"
   ]
  },
  {
   "cell_type": "code",
   "execution_count": 4,
   "metadata": {
    "collapsed": false
   },
   "outputs": [],
   "source": [
    "x_train = train[:,1:].astype(float)\n",
    "\n",
    "train_mean = np.mean(x_train, axis=0)\n",
    "train_mean = train_mean.reshape(1,784)\n",
    "for idx,x in enumerate(x_train):\n",
    "    x_train[idx] = x - train_mean\n",
    "\n",
    "y_train = convertOneHotEncoding(train[:,0]).astype(np.float32)\n",
    "\n",
    "x_val = val[:,1:].astype(float)\n",
    "y_val = convertOneHotEncoding(val[:,0]).astype(np.float32)\n",
    "\n",
    "for idx,x in enumerate(x_val):\n",
    "    x_val[idx] = x - train_mean"
   ]
  },
  {
   "cell_type": "code",
   "execution_count": 5,
   "metadata": {
    "collapsed": false
   },
   "outputs": [],
   "source": [
    "test = pd.read_csv('./test.csv')\n",
    "x_test = test.as_matrix().astype(np.float32)"
   ]
  },
  {
   "cell_type": "code",
   "execution_count": 6,
   "metadata": {
    "collapsed": true
   },
   "outputs": [],
   "source": [
    "x = tf.placeholder(tf.float32, shape=[None, 784])\n",
    "y = tf.placeholder(tf.float32, shape=[None, 10])"
   ]
  },
  {
   "cell_type": "code",
   "execution_count": 7,
   "metadata": {
    "collapsed": false
   },
   "outputs": [],
   "source": [
    "W = tf.Variable(tf.truncated_normal([784,10],stddev=0.1), name=\"Weights\")\n",
    "b = tf.Variable(tf.zeros([10]), name=\"bias\")"
   ]
  },
  {
   "cell_type": "code",
   "execution_count": 8,
   "metadata": {
    "collapsed": true
   },
   "outputs": [],
   "source": [
    "y_ = tf.nn.softmax(tf.matmul(x,W) + b)\n",
    "cross_entropy = tf.reduce_mean(-tf.reduce_sum(y * tf.log(y_+1e-37), reduction_indices=[1]))\n",
    "train_step = tf.train.GradientDescentOptimizer(0.0005).minimize(cross_entropy)\n",
    "prediction = tf.argmax(y_,1)\n",
    "correct_prediction = tf.equal(tf.argmax(y_,1), tf.argmax(y,1))\n",
    "accuracy = tf.reduce_mean(tf.cast(correct_prediction,tf.float32))"
   ]
  },
  {
   "cell_type": "code",
   "execution_count": 9,
   "metadata": {
    "collapsed": false
   },
   "outputs": [
    {
     "name": "stdout",
     "output_type": "stream",
     "text": [
      "0.908833\n"
     ]
    }
   ],
   "source": [
    "start = 0\n",
    "with tf.Session() as sess:\n",
    "    sess.run(tf.initialize_all_variables())\n",
    "    for i in range(60000):\n",
    "        batch_x = x_train[start:(start+30),:]\n",
    "        #print batch_x\n",
    "        #break\n",
    "        batch_y = y_train[start:(start+30),:]\n",
    "        #print sess.run(cross_entropy, feed_dict={x:batch_x, y: batch_y})\n",
    "        train_step.run(feed_dict={x:batch_x, y: batch_y})\n",
    "        start = (start+30)%30000\n",
    "        #break\n",
    "    print sess.run(accuracy, feed_dict={x:x_val, y:y_val})\n",
    "    np.savetxt('result.txt',sess.run(prediction, feed_dict={x:x_test}), fmt='%d')\n",
    "    #np.savetxt('result_probs.txt',sess.run(y_,feed_dict={x:x_test}))\n",
    "    "
   ]
  },
  {
   "cell_type": "code",
   "execution_count": 10,
   "metadata": {
    "collapsed": false
   },
   "outputs": [],
   "source": [
    "res = np.loadtxt('result.txt')\n",
    "lis = []\n",
    "for idx, y in enumerate(res):\n",
    "    lis.append([idx+1,y])\n",
    "lis = np.array(lis)\n",
    "np.savetxt('result2.txt', lis, fmt='%d', delimiter=',')"
   ]
  },
  {
   "cell_type": "code",
   "execution_count": null,
   "metadata": {
    "collapsed": true
   },
   "outputs": [],
   "source": []
  }
 ],
 "metadata": {
  "kernelspec": {
   "display_name": "Python 2",
   "language": "python",
   "name": "python2"
  },
  "language_info": {
   "codemirror_mode": {
    "name": "ipython",
    "version": 2
   },
   "file_extension": ".py",
   "mimetype": "text/x-python",
   "name": "python",
   "nbconvert_exporter": "python",
   "pygments_lexer": "ipython2",
   "version": "2.7.11+"
  }
 },
 "nbformat": 4,
 "nbformat_minor": 0
}
